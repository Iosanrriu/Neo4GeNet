{
 "cells": [
  {
   "cell_type": "markdown",
   "metadata": {},
   "source": [
    "Query Benchamark"
   ]
  },
  {
   "cell_type": "code",
   "execution_count": 187,
   "metadata": {},
   "outputs": [],
   "source": [
    "import pyodbc\n",
    "import pandas as pd\n",
    "conn= pyodbc.connect(\n",
    "'Driver={SQL Server Native Client 11.0};'\n",
    "'Server=MSI;'\n",
    "'Database=Backup6;'\n",
    "'MARS_Connection=Yes;'\n",
    "'Trusted_Connection=yes;'\n",
    ")"
   ]
  },
  {
   "cell_type": "code",
   "execution_count": 284,
   "metadata": {},
   "outputs": [],
   "source": [
    "import pandas as pd\n",
    "from py2neo import Node,Relationship,Graph, database,NodeMatcher \n",
    "import time "
   ]
  },
  {
   "cell_type": "markdown",
   "metadata": {},
   "source": [
    "Query in Neo4J DisGeNet"
   ]
  },
  {
   "cell_type": "code",
   "execution_count": 285,
   "metadata": {},
   "outputs": [],
   "source": [
    "graph=Graph()# or Graph('bolt://neo4j@localhost:7687')"
   ]
  },
  {
   "cell_type": "code",
   "execution_count": 286,
   "metadata": {},
   "outputs": [],
   "source": [
    "G_in_S=[]\n",
    "D_in_G=[]\n",
    "G_2_S=[]\n",
    "s=34\n",
    "for i in range(1,17):\n",
    "    \n",
    "    for r in range(0,100):\n",
    "        runtime=time.time()\n",
    "        graph.run('Match(s:Sample)-[:EXPRESSED]-(g:Gene) where ID(s)=$id return g',id=44637 )\n",
    "        G_in_S.append([s,round(time.time()-runtime,4)])\n",
    "\n",
    "        runtime=time.time()\n",
    "        graph.run('Match(s:Sample)-[:EXPRESSED]-(g:Gene) where ID(s)=$id match (g)-[:GDA]-(d:Disease) return g,d',id=44637 )\n",
    "        D_in_G.append([s,round(time.time()-runtime,4)])\n",
    "\n",
    "        runtime=time.time()\n",
    "        graph.run('MATCH (s1:Sample)-[:EXPRESSED]->(g:Gene)<-[:EXPRESSED]-(s2:Sample)  where ID(s1)=$id1 and ID(s2)=$id2  return g.ENSEMBL',id1=44637 ,id2=44638)\n",
    "        G_2_S.append([s,round(time.time()-runtime,4)])\n",
    "\n",
    "    s=s-2\n",
    "    id1=(44669-2*(i-1))\n",
    "    id2=(44670-2*(i-1))\n",
    "    graph.run('Match(s:Sample) where ID(s)=$id  detach delete s',id=id1)\n",
    "    graph.run('Match(s:Sample) where ID(s)=$id  detach delete s',id=id2)\n",
    "\n",
    "#repeat query one last time\n",
    "for r in range(0,100):\n",
    "    runtime=time.time()\n",
    "    graph.run('Match(s:Sample)-[:EXPRESSED]-(g:Gene) where ID(s)=$id return g',id=44637)\n",
    "    G_in_S.append([s,round(time.time()-runtime,4)])\n",
    "\n",
    "    runtime=time.time()\n",
    "    graph.run('Match(s:Sample)-[:EXPRESSED]-(g:Gene) where ID(s)=$id match (g)-[:GDA]-(d:Disease) return g,d',id=44637)\n",
    "    D_in_G.append([s,round(time.time()-runtime,4)])\n",
    "\n",
    "    runtime=time.time()\n",
    "    graph.run('MATCH (s1:Sample)-[:EXPRESSED]->(g:Gene)<-[:EXPRESSED]-(s2:Sample)  where ID(s1)=$id1 and ID(s2)=$id2  return g.ENSEMBL',id1=44637 ,id2=44638)\n",
    "    G_2_S.append([s,round(time.time()-runtime,4)])"
   ]
  },
  {
   "cell_type": "markdown",
   "metadata": {},
   "source": [
    "Query in SQL"
   ]
  },
  {
   "cell_type": "code",
   "execution_count": 188,
   "metadata": {},
   "outputs": [],
   "source": [
    "query_Gene_in_s='''SELECT Genes.Gene_ENGS\n",
    "from Sample_Description inner join Samples_Regulations ON Sample_Description.Sample_ID = Samples_Regulations.Sample_ID\n",
    "INNER JOIN Genes ON Samples_Regulations.Gene_ID = Genes.Gene_ID\n",
    "where Sample_Description.Sample_ID=1 '''\n",
    "\n",
    "Query_Disease_in_g='''SELECT Genes.Gene_ENGS, Disease.Disease_Name\n",
    "from Sample_Description \n",
    "INNER JOIN Samples_Regulations ON Sample_Description.Sample_ID = Samples_Regulations.Sample_ID\n",
    "INNER JOIN Genes ON Samples_Regulations.Gene_ID = Genes.Gene_ID\n",
    "INNER JOIN GDA ON Genes.Gene_ID=GDA.Gene_ID \n",
    "INNER JOIN Disease ON GDA.DIsease_ID=Disease.Disease_ID\n",
    "where Sample_Description.Sample_ID=1 '''\n",
    "\n",
    "Query_g_in_2s=''' SELECT  Genes.Gene_ENGS, Disease.Disease_Name\n",
    "from Sample_Description \n",
    "INNER JOIN Samples_Regulations ON Sample_Description.Sample_ID = Samples_Regulations.Sample_ID\n",
    "INNER JOIN Genes ON Samples_Regulations.Gene_ID = Genes.Gene_ID\n",
    "INNER JOIN GDA ON Genes.Gene_ID=GDA.Gene_ID \n",
    "INNER JOIN Disease ON GDA.DIsease_ID=Disease.Disease_ID\n",
    "where Sample_Description.Sample_ID=1\n",
    "INTERSECT\n",
    "SELECT  Genes.Gene_ENGS, Disease.Disease_Name\n",
    "from Sample_Description \n",
    "INNER JOIN Samples_Regulations ON Sample_Description.Sample_ID = Samples_Regulations.Sample_ID\n",
    "INNER JOIN Genes ON Samples_Regulations.Gene_ID = Genes.Gene_ID\n",
    "INNER JOIN GDA ON Genes.Gene_ID=GDA.Gene_ID \n",
    "INNER JOIN Disease ON GDA.DIsease_ID=Disease.Disease_ID\n",
    "where Sample_Description.Sample_ID=2 '''\n",
    "\n",
    "delete_Query='''Delete from Samples_Regulations where Samples_Regulations.Sample_ID=?;\n",
    "Delete from Sample_Description where Sample_Description.Sample_ID=?;'''"
   ]
  },
  {
   "cell_type": "code",
   "execution_count": 191,
   "metadata": {},
   "outputs": [],
   "source": [
    "SQL_G_in_S=[]\n",
    "SQL_D_in_G=[]\n",
    "SQL_G_2_S=[]\n",
    "s=34\n",
    "#cursor= conn.cursor()\n",
    "for i in range(1,17):\n",
    "    cursor= conn.cursor()\n",
    "    for r in range(0,100):\n",
    "\n",
    "        runtime=time.time()\n",
    "        cursor.execute(query_Gene_in_s)\n",
    "        SQL_G_in_S.append([s,round(time.time()-runtime,4)])\n",
    "        conn.commit()\n",
    "\n",
    "        runtime=time.time()\n",
    "        cursor.execute(Query_Disease_in_g)\n",
    "        SQL_D_in_G.append([s,round(time.time()-runtime,4)])\n",
    "        conn.commit()\n",
    "\n",
    "        runtime=time.time()\n",
    "        cursor.execute(Query_g_in_2s)\n",
    "        SQL_G_2_S.append([s,round(time.time()-runtime,4)])\n",
    "        conn.commit()\n",
    "\n",
    "    s=s-2\n",
    "    id1=(34-2*(i-1))\n",
    "    id2=(33-2*(i-1))\n",
    "    cursor= conn.cursor()\n",
    "    cursor.execute(delete_Query,id1,id1)\n",
    "    conn.commit()\n",
    "\n",
    "    cursor= conn.cursor()\n",
    "    cursor.execute(delete_Query,id2,id2)\n",
    "    conn.commit()\n",
    "\n",
    "#repeat query one last time\n",
    "for r in range(0,100):\n",
    "\n",
    "    runtime=time.time()\n",
    "    cursor.execute(query_Gene_in_s)\n",
    "    SQL_G_in_S.append([s,round(time.time()-runtime,4)])\n",
    "    conn.commit()\n",
    "\n",
    "    runtime=time.time()\n",
    "    cursor.execute(Query_Disease_in_g)\n",
    "    SQL_D_in_G.append([s,round(time.time()-runtime,4)])\n",
    "    conn.commit()\n",
    "\n",
    "    runtime=time.time()\n",
    "    cursor.execute(Query_g_in_2s)\n",
    "    SQL_G_2_S.append([s,round(time.time()-runtime,4)])\n",
    "    conn.commit()"
   ]
  },
  {
   "cell_type": "code",
   "execution_count": 292,
   "metadata": {},
   "outputs": [],
   "source": [
    "G_in_S=pd.DataFrame(G_in_S)\n",
    "D_in_G=pd.DataFrame(D_in_G)\n",
    "G_2_S=pd.DataFrame(G_2_S)\n",
    "\n",
    "SQL_G_in_S=pd.DataFrame(SQL_G_in_S)\n",
    "SQL_D_in_G=pd.DataFrame(SQL_D_in_G)\n",
    "SQL_G_2_S=pd.DataFrame(SQL_G_2_S)"
   ]
  },
  {
   "cell_type": "markdown",
   "metadata": {},
   "source": [
    "Plot all data"
   ]
  },
  {
   "cell_type": "code",
   "execution_count": 289,
   "metadata": {},
   "outputs": [],
   "source": [
    "import matplotlib.pyplot as plt\n",
    "import numpy as np"
   ]
  },
  {
   "cell_type": "code",
   "execution_count": 95,
   "metadata": {},
   "outputs": [
    {
     "data": {
      "text/plain": [
       "17"
      ]
     },
     "execution_count": 95,
     "metadata": {},
     "output_type": "execute_result"
    }
   ],
   "source": [
    "x=G_2_S[0].unique()\n",
    "len(x)"
   ]
  },
  {
   "cell_type": "code",
   "execution_count": 296,
   "metadata": {},
   "outputs": [
    {
     "data": {
      "text/plain": [
       "(17, 17)"
      ]
     },
     "execution_count": 296,
     "metadata": {},
     "output_type": "execute_result"
    }
   ],
   "source": [
    "neo4_mean_G_in_S=G_in_S.groupby([0]).mean()\n",
    "neo4_sd_G_in_S=G_in_S.groupby([0]).std()\n",
    "len(neo4_mean_G_in_S),len(neo4_sd_G_in_S)"
   ]
  },
  {
   "cell_type": "code",
   "execution_count": 298,
   "metadata": {},
   "outputs": [],
   "source": [
    "x=r_G_2_S[0].unique()"
   ]
  },
  {
   "cell_type": "code",
   "execution_count": 96,
   "metadata": {},
   "outputs": [
    {
     "data": {
      "text/plain": [
       "(17, 17)"
      ]
     },
     "execution_count": 96,
     "metadata": {},
     "output_type": "execute_result"
    }
   ],
   "source": [
    "sql_mean_G_in_S=SQL_G_in_S.groupby([0]).mean()\n",
    "sql_sd_G_in_S=SQL_G_in_S.groupby([0]).std()\n",
    "len(sql_mean_G_in_S),len(sql_sd_G_in_S)"
   ]
  },
  {
   "cell_type": "code",
   "execution_count": 299,
   "metadata": {},
   "outputs": [
    {
     "data": {
      "image/png": "[encoded data removed]",
      "text/plain": [
       "<Figure size 432x288 with 2 Axes>"
      ]
     },
     "metadata": {
      "needs_background": "light"
     },
     "output_type": "display_data"
    }
   ],
   "source": [
    "fig1,ax1=plt.subplots()\n",
    "ax2=ax1.twinx()\n",
    "curve1=ax1.plot(x,neo4_mean_G_in_S, label='Query time Genes in 1 sample Neo4j', color='b')\n",
    "curve2=ax1.plot(x,sql_mean_G_in_S, label='Query time Genes in 1 sample SQL', color='y')\n",
    "plt.plot()\n",
    "plt.show()"
   ]
  },
  {
   "cell_type": "code",
   "execution_count": 300,
   "metadata": {},
   "outputs": [],
   "source": [
    "from collections import defaultdict"
   ]
  },
  {
   "cell_type": "code",
   "execution_count": 301,
   "metadata": {},
   "outputs": [
    {
     "data": {
      "image/png": "[encoded data removed]",
      "text/plain": [
       "<Figure size 1152x504 with 2 Axes>"
      ]
     },
     "metadata": {
      "needs_background": "light"
     },
     "output_type": "display_data"
    }
   ],
   "source": [
    "r_G_in_S = G_in_S.iloc[::-1]\n",
    "r_SQL_G_in_S = SQL_G_in_S.iloc[::-1]\n",
    "tuples1 = [tuple(x) for x in r_G_in_S.to_numpy()]\n",
    "tuples2 = [tuple(x) for x in r_SQL_G_in_S.to_numpy()]\n",
    "\n",
    "d1 = defaultdict(list)\n",
    "for x, y in tuples1:\n",
    "    d1[x].append(y)\n",
    "d2 = defaultdict(list)\n",
    "for x, y in tuples2:\n",
    "    d2[x].append(y)\n",
    "fig, [ax1,ax2] = plt.subplots(1,2)\n",
    "fig.set_figheight(7)\n",
    "fig.set_figwidth(16)\n",
    "#'Neo4j vs SQL Query time for Genes in 1 Sample varying Samples number in database'\n",
    "fig.suptitle('Neo4j vs SQL tiempo de consulta de genes en una muestra \\n variando el numero de muestras en la base de datos')\n",
    "ax1.boxplot(d1.values())\n",
    "ax1.title.set_text('Neo4j Query time(s) vs n Samples')\n",
    "ax1.set_ylim([0, 0.8])\n",
    "ax2.boxplot(d2.values())\n",
    "ax2.title.set_text('SQL Query time(s) vs n Samples')\n",
    "ax2.set_ylim([0, 0.080])\n",
    "\n",
    "plt.sca(ax1)\n",
    "plt.xticks(range(18), [0,2,4,6,8,10,12,14,16,18,20,22,24,26,28,30,32,34])\n",
    "plt.sca(ax2)\n",
    "plt.xticks(range(18), [0,2,4,6,8,10,12,14,16,18,20,22,24,26,28,30,32,34])\n",
    "plt.show()"
   ]
  },
  {
   "cell_type": "code",
   "execution_count": 303,
   "metadata": {},
   "outputs": [
    {
     "data": {
      "image/png": "[encoded data removed]",
      "text/plain": [
       "<Figure size 1152x504 with 2 Axes>"
      ]
     },
     "metadata": {
      "needs_background": "light"
     },
     "output_type": "display_data"
    }
   ],
   "source": [
    "r_D_in_G = D_in_G.iloc[::-1]\n",
    "r_SQL_D_in_G = SQL_D_in_G.iloc[::-1]\n",
    "tuples1 = [tuple(x) for x in r_D_in_G.to_numpy()]\n",
    "tuples2 = [tuple(x) for x in r_SQL_D_in_G.to_numpy()]\n",
    "\n",
    "d1 = defaultdict(list)\n",
    "for x, y in tuples1:\n",
    "    d1[x].append(y)\n",
    "d2 = defaultdict(list)\n",
    "for x, y in tuples2:\n",
    "    d2[x].append(y)\n",
    "\n",
    "fig, [ax1,ax2] = plt.subplots(1,2)\n",
    "fig.set_figheight(7)\n",
    "fig.set_figwidth(16)\n",
    "#'Neo4j vs SQL Query time for Genes in 1 Sample varying Samples number in database'\n",
    "fig.suptitle('Neo4j vs SQL tiempo de consulta para Enfermedades asociadas a genes en una \\n muestra variando el numero de muestras en la base de datos')\n",
    "ax1.boxplot(d1.values())\n",
    "ax1.title.set_text('Neo4j Query time(s) vs n Samples')\n",
    "ax1.set_ylim([0, 2.50])\n",
    "ax2.boxplot(d2.values())\n",
    "ax2.title.set_text('SQL Query time(s) vs n Samples')\n",
    "ax2.set_ylim([0, 0.10])\n",
    "plt.sca(ax1)\n",
    "plt.xticks(range(18), [0,2,4,6,8,10,12,14,16,18,20,22,24,26,28,30,32,34])\n",
    "plt.sca(ax2)\n",
    "plt.xticks(range(18), [0,2,4,6,8,10,12,14,16,18,20,22,24,26,28,30,32,34])\n",
    "plt.show()"
   ]
  },
  {
   "cell_type": "code",
   "execution_count": 304,
   "metadata": {},
   "outputs": [
    {
     "data": {
      "image/png": "[encoded data removed]",
      "text/plain": [
       "<Figure size 1152x504 with 2 Axes>"
      ]
     },
     "metadata": {
      "needs_background": "light"
     },
     "output_type": "display_data"
    }
   ],
   "source": [
    "r_G_2_S = G_2_S.iloc[::-1]\n",
    "r_SQL_G_2_S = SQL_G_2_S.iloc[::-1]\n",
    "tuples1 = [tuple(x) for x in r_G_2_S.to_numpy()]\n",
    "tuples2 = [tuple(x) for x in r_SQL_G_2_S.to_numpy()]\n",
    "\n",
    "d1 = defaultdict(list)\n",
    "for x, y in tuples1:\n",
    "    d1[x].append(y)\n",
    "d2 = defaultdict(list)\n",
    "for x, y in tuples2:\n",
    "    d2[x].append(y)\n",
    "\n",
    "fig, [ax1,ax2] = plt.subplots(1,2)\n",
    "fig.set_figheight(7)\n",
    "fig.set_figwidth(16)\n",
    "#'Neo4j vs SQL Query time for Genes in 1 Sample varying Samples number in database'\n",
    "fig.suptitle('Neo4j vs SQL tiempo de consulta de genes comunes en 2 muestras variando \\n el número de muestras en la base de datos')\n",
    "ax1.boxplot(d1.values())\n",
    "ax1.title.set_text('Neo4j Query time(s) vs n Samples')\n",
    "ax1.set_ylim([0, 0.210])\n",
    "plt.xticks(range(18), [0,2,4,6,8,10,12,14,16,18,20,22,24,26,28,30,32,34])\n",
    "ax2.boxplot(d2.values())\n",
    "ax2.title.set_text('SQL Query time(s) vs n Samples')\n",
    "ax2.set_ylim([0, 0.210])\n",
    "#ax2. set_yscale([0,0.1,0.15,0.20,0.25,0.3,0.35,0.4])\n",
    "#plt.xticks([2])\n",
    "plt.sca(ax1)\n",
    "plt.xticks(range(18), [0,2,4,6,8,10,12,14,16,18,20,22,24,26,28,30,32,34])\n",
    "plt.sca(ax2)\n",
    "plt.xticks(range(18), [0,2,4,6,8,10,12,14,16,18,20,22,24,26,28,30,32,34])\n",
    "plt.show()"
   ]
  },
  {
   "cell_type": "code",
   "execution_count": 306,
   "metadata": {},
   "outputs": [
    {
     "data": {
      "text/html": [
       "<div>\n",
       "<style scoped>\n",
       "    .dataframe tbody tr th:only-of-type {\n",
       "        vertical-align: middle;\n",
       "    }\n",
       "\n",
       "    .dataframe tbody tr th {\n",
       "        vertical-align: top;\n",
       "    }\n",
       "\n",
       "    .dataframe thead th {\n",
       "        text-align: right;\n",
       "    }\n",
       "</style>\n",
       "<table border=\"1\" class=\"dataframe\">\n",
       "  <thead>\n",
       "    <tr style=\"text-align: right;\">\n",
       "      <th></th>\n",
       "      <th>1</th>\n",
       "    </tr>\n",
       "    <tr>\n",
       "      <th>0</th>\n",
       "      <th></th>\n",
       "    </tr>\n",
       "  </thead>\n",
       "  <tbody>\n",
       "    <tr>\n",
       "      <th>2</th>\n",
       "      <td>0.007868</td>\n",
       "    </tr>\n",
       "    <tr>\n",
       "      <th>4</th>\n",
       "      <td>0.009022</td>\n",
       "    </tr>\n",
       "    <tr>\n",
       "      <th>6</th>\n",
       "      <td>0.010760</td>\n",
       "    </tr>\n",
       "    <tr>\n",
       "      <th>8</th>\n",
       "      <td>0.013462</td>\n",
       "    </tr>\n",
       "    <tr>\n",
       "      <th>10</th>\n",
       "      <td>0.015717</td>\n",
       "    </tr>\n",
       "    <tr>\n",
       "      <th>12</th>\n",
       "      <td>0.013275</td>\n",
       "    </tr>\n",
       "    <tr>\n",
       "      <th>14</th>\n",
       "      <td>0.014136</td>\n",
       "    </tr>\n",
       "    <tr>\n",
       "      <th>16</th>\n",
       "      <td>0.015209</td>\n",
       "    </tr>\n",
       "    <tr>\n",
       "      <th>18</th>\n",
       "      <td>0.017304</td>\n",
       "    </tr>\n",
       "    <tr>\n",
       "      <th>20</th>\n",
       "      <td>0.017918</td>\n",
       "    </tr>\n",
       "    <tr>\n",
       "      <th>22</th>\n",
       "      <td>0.019045</td>\n",
       "    </tr>\n",
       "    <tr>\n",
       "      <th>24</th>\n",
       "      <td>0.020218</td>\n",
       "    </tr>\n",
       "    <tr>\n",
       "      <th>26</th>\n",
       "      <td>0.022292</td>\n",
       "    </tr>\n",
       "    <tr>\n",
       "      <th>28</th>\n",
       "      <td>0.021988</td>\n",
       "    </tr>\n",
       "    <tr>\n",
       "      <th>30</th>\n",
       "      <td>0.023190</td>\n",
       "    </tr>\n",
       "    <tr>\n",
       "      <th>32</th>\n",
       "      <td>0.023317</td>\n",
       "    </tr>\n",
       "    <tr>\n",
       "      <th>34</th>\n",
       "      <td>0.023887</td>\n",
       "    </tr>\n",
       "  </tbody>\n",
       "</table>\n",
       "</div>"
      ],
      "text/plain": [
       "           1\n",
       "0           \n",
       "2   0.007868\n",
       "4   0.009022\n",
       "6   0.010760\n",
       "8   0.013462\n",
       "10  0.015717\n",
       "12  0.013275\n",
       "14  0.014136\n",
       "16  0.015209\n",
       "18  0.017304\n",
       "20  0.017918\n",
       "22  0.019045\n",
       "24  0.020218\n",
       "26  0.022292\n",
       "28  0.021988\n",
       "30  0.023190\n",
       "32  0.023317\n",
       "34  0.023887"
      ]
     },
     "execution_count": 306,
     "metadata": {},
     "output_type": "execute_result"
    }
   ],
   "source": [
    "SQL_G_in_S.groupby([0]).mean()\n"
   ]
  },
  {
   "cell_type": "code",
   "execution_count": 307,
   "metadata": {},
   "outputs": [
    {
     "data": {
      "text/html": [
       "<div>\n",
       "<style scoped>\n",
       "    .dataframe tbody tr th:only-of-type {\n",
       "        vertical-align: middle;\n",
       "    }\n",
       "\n",
       "    .dataframe tbody tr th {\n",
       "        vertical-align: top;\n",
       "    }\n",
       "\n",
       "    .dataframe thead th {\n",
       "        text-align: right;\n",
       "    }\n",
       "</style>\n",
       "<table border=\"1\" class=\"dataframe\">\n",
       "  <thead>\n",
       "    <tr style=\"text-align: right;\">\n",
       "      <th></th>\n",
       "      <th>1</th>\n",
       "    </tr>\n",
       "    <tr>\n",
       "      <th>0</th>\n",
       "      <th></th>\n",
       "    </tr>\n",
       "  </thead>\n",
       "  <tbody>\n",
       "    <tr>\n",
       "      <th>2</th>\n",
       "      <td>0.019342</td>\n",
       "    </tr>\n",
       "    <tr>\n",
       "      <th>4</th>\n",
       "      <td>0.020143</td>\n",
       "    </tr>\n",
       "    <tr>\n",
       "      <th>6</th>\n",
       "      <td>0.106320</td>\n",
       "    </tr>\n",
       "    <tr>\n",
       "      <th>8</th>\n",
       "      <td>0.029265</td>\n",
       "    </tr>\n",
       "    <tr>\n",
       "      <th>10</th>\n",
       "      <td>0.171708</td>\n",
       "    </tr>\n",
       "    <tr>\n",
       "      <th>12</th>\n",
       "      <td>0.025421</td>\n",
       "    </tr>\n",
       "    <tr>\n",
       "      <th>14</th>\n",
       "      <td>0.026354</td>\n",
       "    </tr>\n",
       "    <tr>\n",
       "      <th>16</th>\n",
       "      <td>0.027258</td>\n",
       "    </tr>\n",
       "    <tr>\n",
       "      <th>18</th>\n",
       "      <td>0.028990</td>\n",
       "    </tr>\n",
       "    <tr>\n",
       "      <th>20</th>\n",
       "      <td>0.029157</td>\n",
       "    </tr>\n",
       "    <tr>\n",
       "      <th>22</th>\n",
       "      <td>0.030465</td>\n",
       "    </tr>\n",
       "    <tr>\n",
       "      <th>24</th>\n",
       "      <td>0.083227</td>\n",
       "    </tr>\n",
       "    <tr>\n",
       "      <th>26</th>\n",
       "      <td>0.032325</td>\n",
       "    </tr>\n",
       "    <tr>\n",
       "      <th>28</th>\n",
       "      <td>0.032974</td>\n",
       "    </tr>\n",
       "    <tr>\n",
       "      <th>30</th>\n",
       "      <td>0.141769</td>\n",
       "    </tr>\n",
       "    <tr>\n",
       "      <th>32</th>\n",
       "      <td>0.034609</td>\n",
       "    </tr>\n",
       "    <tr>\n",
       "      <th>34</th>\n",
       "      <td>0.035274</td>\n",
       "    </tr>\n",
       "  </tbody>\n",
       "</table>\n",
       "</div>"
      ],
      "text/plain": [
       "           1\n",
       "0           \n",
       "2   0.019342\n",
       "4   0.020143\n",
       "6   0.106320\n",
       "8   0.029265\n",
       "10  0.171708\n",
       "12  0.025421\n",
       "14  0.026354\n",
       "16  0.027258\n",
       "18  0.028990\n",
       "20  0.029157\n",
       "22  0.030465\n",
       "24  0.083227\n",
       "26  0.032325\n",
       "28  0.032974\n",
       "30  0.141769\n",
       "32  0.034609\n",
       "34  0.035274"
      ]
     },
     "execution_count": 307,
     "metadata": {},
     "output_type": "execute_result"
    }
   ],
   "source": [
    "SQL_D_in_G.groupby([0]).mean()\n"
   ]
  },
  {
   "cell_type": "code",
   "execution_count": 308,
   "metadata": {},
   "outputs": [
    {
     "data": {
      "text/html": [
       "<div>\n",
       "<style scoped>\n",
       "    .dataframe tbody tr th:only-of-type {\n",
       "        vertical-align: middle;\n",
       "    }\n",
       "\n",
       "    .dataframe tbody tr th {\n",
       "        vertical-align: top;\n",
       "    }\n",
       "\n",
       "    .dataframe thead th {\n",
       "        text-align: right;\n",
       "    }\n",
       "</style>\n",
       "<table border=\"1\" class=\"dataframe\">\n",
       "  <thead>\n",
       "    <tr style=\"text-align: right;\">\n",
       "      <th></th>\n",
       "      <th>1</th>\n",
       "    </tr>\n",
       "    <tr>\n",
       "      <th>0</th>\n",
       "      <th></th>\n",
       "    </tr>\n",
       "  </thead>\n",
       "  <tbody>\n",
       "    <tr>\n",
       "      <th>2</th>\n",
       "      <td>0.109754</td>\n",
       "    </tr>\n",
       "    <tr>\n",
       "      <th>4</th>\n",
       "      <td>0.112040</td>\n",
       "    </tr>\n",
       "    <tr>\n",
       "      <th>6</th>\n",
       "      <td>0.129505</td>\n",
       "    </tr>\n",
       "    <tr>\n",
       "      <th>8</th>\n",
       "      <td>0.156253</td>\n",
       "    </tr>\n",
       "    <tr>\n",
       "      <th>10</th>\n",
       "      <td>0.168717</td>\n",
       "    </tr>\n",
       "    <tr>\n",
       "      <th>12</th>\n",
       "      <td>0.127983</td>\n",
       "    </tr>\n",
       "    <tr>\n",
       "      <th>14</th>\n",
       "      <td>0.128934</td>\n",
       "    </tr>\n",
       "    <tr>\n",
       "      <th>16</th>\n",
       "      <td>0.130255</td>\n",
       "    </tr>\n",
       "    <tr>\n",
       "      <th>18</th>\n",
       "      <td>0.230701</td>\n",
       "    </tr>\n",
       "    <tr>\n",
       "      <th>20</th>\n",
       "      <td>0.134787</td>\n",
       "    </tr>\n",
       "    <tr>\n",
       "      <th>22</th>\n",
       "      <td>0.137555</td>\n",
       "    </tr>\n",
       "    <tr>\n",
       "      <th>24</th>\n",
       "      <td>0.139637</td>\n",
       "    </tr>\n",
       "    <tr>\n",
       "      <th>26</th>\n",
       "      <td>0.141140</td>\n",
       "    </tr>\n",
       "    <tr>\n",
       "      <th>28</th>\n",
       "      <td>0.142785</td>\n",
       "    </tr>\n",
       "    <tr>\n",
       "      <th>30</th>\n",
       "      <td>0.145276</td>\n",
       "    </tr>\n",
       "    <tr>\n",
       "      <th>32</th>\n",
       "      <td>0.145079</td>\n",
       "    </tr>\n",
       "    <tr>\n",
       "      <th>34</th>\n",
       "      <td>0.147060</td>\n",
       "    </tr>\n",
       "  </tbody>\n",
       "</table>\n",
       "</div>"
      ],
      "text/plain": [
       "           1\n",
       "0           \n",
       "2   0.109754\n",
       "4   0.112040\n",
       "6   0.129505\n",
       "8   0.156253\n",
       "10  0.168717\n",
       "12  0.127983\n",
       "14  0.128934\n",
       "16  0.130255\n",
       "18  0.230701\n",
       "20  0.134787\n",
       "22  0.137555\n",
       "24  0.139637\n",
       "26  0.141140\n",
       "28  0.142785\n",
       "30  0.145276\n",
       "32  0.145079\n",
       "34  0.147060"
      ]
     },
     "execution_count": 308,
     "metadata": {},
     "output_type": "execute_result"
    }
   ],
   "source": [
    "SQL_G_2_S.groupby([0]).mean()"
   ]
  },
  {
   "cell_type": "code",
   "execution_count": 305,
   "metadata": {},
   "outputs": [
    {
     "data": {
      "text/html": [
       "<div>\n",
       "<style scoped>\n",
       "    .dataframe tbody tr th:only-of-type {\n",
       "        vertical-align: middle;\n",
       "    }\n",
       "\n",
       "    .dataframe tbody tr th {\n",
       "        vertical-align: top;\n",
       "    }\n",
       "\n",
       "    .dataframe thead th {\n",
       "        text-align: right;\n",
       "    }\n",
       "</style>\n",
       "<table border=\"1\" class=\"dataframe\">\n",
       "  <thead>\n",
       "    <tr style=\"text-align: right;\">\n",
       "      <th></th>\n",
       "      <th>1</th>\n",
       "    </tr>\n",
       "    <tr>\n",
       "      <th>0</th>\n",
       "      <th></th>\n",
       "    </tr>\n",
       "  </thead>\n",
       "  <tbody>\n",
       "    <tr>\n",
       "      <th>2</th>\n",
       "      <td>0.007868</td>\n",
       "    </tr>\n",
       "    <tr>\n",
       "      <th>4</th>\n",
       "      <td>0.009022</td>\n",
       "    </tr>\n",
       "    <tr>\n",
       "      <th>6</th>\n",
       "      <td>0.010760</td>\n",
       "    </tr>\n",
       "    <tr>\n",
       "      <th>8</th>\n",
       "      <td>0.013462</td>\n",
       "    </tr>\n",
       "    <tr>\n",
       "      <th>10</th>\n",
       "      <td>0.015717</td>\n",
       "    </tr>\n",
       "    <tr>\n",
       "      <th>12</th>\n",
       "      <td>0.013275</td>\n",
       "    </tr>\n",
       "    <tr>\n",
       "      <th>14</th>\n",
       "      <td>0.014136</td>\n",
       "    </tr>\n",
       "    <tr>\n",
       "      <th>16</th>\n",
       "      <td>0.015209</td>\n",
       "    </tr>\n",
       "    <tr>\n",
       "      <th>18</th>\n",
       "      <td>0.017304</td>\n",
       "    </tr>\n",
       "    <tr>\n",
       "      <th>20</th>\n",
       "      <td>0.017918</td>\n",
       "    </tr>\n",
       "    <tr>\n",
       "      <th>22</th>\n",
       "      <td>0.019045</td>\n",
       "    </tr>\n",
       "    <tr>\n",
       "      <th>24</th>\n",
       "      <td>0.020218</td>\n",
       "    </tr>\n",
       "    <tr>\n",
       "      <th>26</th>\n",
       "      <td>0.022292</td>\n",
       "    </tr>\n",
       "    <tr>\n",
       "      <th>28</th>\n",
       "      <td>0.021988</td>\n",
       "    </tr>\n",
       "    <tr>\n",
       "      <th>30</th>\n",
       "      <td>0.023190</td>\n",
       "    </tr>\n",
       "    <tr>\n",
       "      <th>32</th>\n",
       "      <td>0.023317</td>\n",
       "    </tr>\n",
       "    <tr>\n",
       "      <th>34</th>\n",
       "      <td>0.023887</td>\n",
       "    </tr>\n",
       "  </tbody>\n",
       "</table>\n",
       "</div>"
      ],
      "text/plain": [
       "           1\n",
       "0           \n",
       "2   0.007868\n",
       "4   0.009022\n",
       "6   0.010760\n",
       "8   0.013462\n",
       "10  0.015717\n",
       "12  0.013275\n",
       "14  0.014136\n",
       "16  0.015209\n",
       "18  0.017304\n",
       "20  0.017918\n",
       "22  0.019045\n",
       "24  0.020218\n",
       "26  0.022292\n",
       "28  0.021988\n",
       "30  0.023190\n",
       "32  0.023317\n",
       "34  0.023887"
      ]
     },
     "execution_count": 305,
     "metadata": {},
     "output_type": "execute_result"
    }
   ],
   "source": [
    "sql_mean_G_in_S"
   ]
  }
 ],
 "metadata": {
  "interpreter": {
   "hash": "2c1d810cbdec53ec64946343f3c89d77305c51d6346f2ac7bc7d3a93293d3fd2"
  },
  "kernelspec": {
   "display_name": "Python 3.9.1 64-bit",
   "language": "python",
   "name": "python3"
  },
  "language_info": {
   "codemirror_mode": {
    "name": "ipython",
    "version": 3
   },
   "file_extension": ".py",
   "mimetype": "text/x-python",
   "name": "python",
   "nbconvert_exporter": "python",
   "pygments_lexer": "ipython3",
   "version": "3.9.1"
  },
  "orig_nbformat": 4
 },
 "nbformat": 4,
 "nbformat_minor": 2
}
