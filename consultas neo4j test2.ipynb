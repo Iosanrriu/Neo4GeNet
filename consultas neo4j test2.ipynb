{
 "cells": [
  {
   "cell_type": "markdown",
   "metadata": {},
   "source": [
    "CONSULTAS NEO4J BASE DE DATOS TEST2"
   ]
  },
  {
   "cell_type": "code",
   "execution_count": null,
   "metadata": {},
   "outputs": [],
   "source": [
    " # contar todos los tipos de relaciones\n",
    "MATCH ()-[relationship]->() \n",
    "RETURN TYPE(relationship) AS type, COUNT(relationship) AS amount\n",
    "ORDER BY amount DESC;"
   ]
  },
  {
   "cell_type": "code",
   "execution_count": null,
   "metadata": {},
   "outputs": [],
   "source": [
    "MATCH (n) \n",
    "RETURN DISTINCT count(labels(n)), labels(n);"
   ]
  },
  {
   "cell_type": "code",
   "execution_count": null,
   "metadata": {},
   "outputs": [],
   "source": [
    "CALL db.schema.visualization()\n",
    "#despliega el esquema de la base de datos"
   ]
  },
  {
   "cell_type": "code",
   "execution_count": null,
   "metadata": {},
   "outputs": [],
   "source": [
    "MATCH (e1:Dataset)-[]-(:Sample)[:EG]->(g:Gene)<-[:GDA]-(d:Desease)\n",
    "match (e2:Experiment{name:'GSM4462415'})\n",
    "WHERE  NOT (g)<-[:EG]-(e2) and d.name STARTS WITH 'Diabetes'\n",
    "return g,d;"
   ]
  },
  {
   "cell_type": "code",
   "execution_count": null,
   "metadata": {},
   "outputs": [],
   "source": [
    "MATCH (e1:Experiment{name:'GSM4462413'})-[:EG]->(g:Gene)<-[:GDA]-(d:Desease)\n",
    "match (e2:Experiment{name:'GSM4462415'})\n",
    "WHERE  NOT (g)<-[:EG]-(e2) and d.name STARTS WITH 'Diabetes' and (g)-[:Regulates]->()\n",
    "return g,d,e1,e2 ;"
   ]
  },
  {
   "cell_type": "code",
   "execution_count": null,
   "metadata": {},
   "outputs": [],
   "source": [
    "MATCH (a:Sample)-[r]->(:Gene) RETURN COUNT(r),(a)\n",
    "#por nodo sample cuantas relaicones tiene cada una"
   ]
  },
  {
   "cell_type": "code",
   "execution_count": null,
   "metadata": {},
   "outputs": [],
   "source": [
    "#si hago un display de Genes, veo toda la red de dorothea, \n",
    "#sobre lo anterior consulto para una muestra ¿cual son ls TF(genes que regulan) que estan y los que no estan?,\n",
    "\n",
    "MATCH (e1:Experiment{name:'GSM4462413'})-[:EXPRESSED]->(g:Gene)-[:REGULATES]->(Gene)\n",
    "MATCH (e1:Experiment{name:'GSM4462413'}) match (g:Gene)-[:REGULATES]->(Gene) where not (e1)-[:EXPRESSED]->(g:Gene)\n",
    "\n",
    "#eso me entrega la red contextualizada"
   ]
  },
  {
   "cell_type": "code",
   "execution_count": null,
   "metadata": {},
   "outputs": [],
   "source": [
    "#que factores de regulacion cambian?\n",
    "MATCH (g:Gene)-[:REGULATES]->(Gene) where (e1:Experiment{name:'GSM4462413'})-[:EXPRESSED]->(g)<-[:EXPRESSED]-(e2:Experiment{name:'GSM4462414'});\n",
    "MATCH (e1:Experiment{name:'GSM4462413'})-[:EXPRESSED]-(g:Gene)-[:REGULATES]->(Gene) where not (e2)-[:EXPRESSED]->(g:Gene)"
   ]
  },
  {
   "cell_type": "code",
   "execution_count": null,
   "metadata": {},
   "outputs": [],
   "source": [
    "#con la lista de TF que cambian mostra a los genes regulan y por tanto les cambia la regulacion entre condiciones, \n",
    "# entre ambos entregar link con comorvilidades\n",
    "recordar que e1 y e2 son muestras con nombres pero que pueden ser grupos de nodos que cumplen con tags comunes\n"
   ]
  },
  {
   "cell_type": "markdown",
   "metadata": {},
   "source": [
    "caso de ejemplo"
   ]
  },
  {
   "cell_type": "code",
   "execution_count": null,
   "metadata": {},
   "outputs": [],
   "source": [
    "MATCH (S1:Sample)<-[HAVE{condition:'Healthy'}]-(b:BioProyect) where b.accession='PRJNA639275',\n",
    "MATCH (S2:Sample)<-[HAVE{condition:'Infected'}]-(b:BioProyect) where b.accession='PRJNA639275' return S1,S2"
   ]
  },
  {
   "cell_type": "code",
   "execution_count": null,
   "metadata": {},
   "outputs": [],
   "source": [
    "MATCH (s:Sample)-[:HAVE{condition:'Healthy'}]-(bp:BioProyect{accession:'PRJNA639275'})\n",
    "MATCH (n:TF)-[:EXPRESSED]-(s)\n",
    "RETURN n,s,bp"
   ]
  },
  {
   "cell_type": "code",
   "execution_count": null,
   "metadata": {},
   "outputs": [],
   "source": [
    "MATCH (n:TF)-[e:EXPRESSED]-(s:Sample{SAMN: 'SAMN15230275'})\n",
    "match (s2:Sample{SAMN: 'SAMN15230282'})\n",
    "where not (n)-[:EXPRESSED]-(s2)\n",
    "RETURN n,s,e,s2,"
   ]
  },
  {
   "cell_type": "code",
   "execution_count": null,
   "metadata": {},
   "outputs": [],
   "source": [
    "MATCH (n:TF)-[e:EXPRESSED]-(s:Sample{SAMN: 'SAMN15230275'})\n",
    "MATCH (n)<-[d2:GDA]-(d:Desease)\n",
    "match (s2:Sample{SAMN: 'SAMN15230282'})\n",
    "where not (n)-[:EXPRESSED]-(s2)\n",
    "RETURN n,s,e,s2,d"
   ]
  },
  {
   "cell_type": "code",
   "execution_count": null,
   "metadata": {},
   "outputs": [],
   "source": [
    "MATCH (n:TF)-[e:EXPRESSED]-(s:Sample{SAMN: 'SAMN15230275'})\n",
    "MATCH (n)<-[d2:GDA]-(d:Desease) where d.name contains 'iabetes'\n",
    "match (s2:Sample{SAMN: 'SAMN15230282'})\n",
    "where not (n)-[:EXPRESSED]-(s2)\n",
    "RETURN n,s,e,s2,d,d2"
   ]
  },
  {
   "cell_type": "code",
   "execution_count": null,
   "metadata": {},
   "outputs": [],
   "source": [
    "MATCH (p:Gene) where exist()\n",
    "<-[:EXPRESSED]-(s:Sample)<-[h:HAS]-()\n",
    "WHERE h.condition = 'Healthy'\n",
    "AND NOT exists((friend)-[:WORKS_FOR]->(:Company) where )\n",
    "RETURN friend.name;"
   ]
  },
  {
   "cell_type": "markdown",
   "metadata": {},
   "source": [
    "Diferencias en consulta de Neo4j vs SQL"
   ]
  },
  {
   "cell_type": "code",
   "execution_count": null,
   "metadata": {},
   "outputs": [],
   "source": [
    "#(1)\n",
    "MATCH (s:Sample)-[relationship]->(:Gene) \n",
    "RETURN s.SAMN AS Sample, COUNT(relationship) AS amount"
   ]
  },
  {
   "cell_type": "code",
   "execution_count": null,
   "metadata": {},
   "outputs": [],
   "source": [
    "#(1)\n",
    "SELECT Sample_Description.Sample_code, COUNT(Genes.Gene_ID) as 'Expressed Genes'\n",
    "from Sample_Description \n",
    "inner join Samples_Regulations ON Sample_Description.Sample_ID = Samples_Regulations.Sample_ID\n",
    "INNER JOIN Genes ON Samples_Regulations.Gene_ID = Genes.Gene_ID\n",
    "group by Sample_Description.Sample_code"
   ]
  },
  {
   "cell_type": "code",
   "execution_count": null,
   "metadata": {},
   "outputs": [],
   "source": [
    "#(2)\n",
    "MATCH (s:Sample)-[relationship]->(g:Gene)  where ID(s)=44637 return g.ENSEMBL as Expressed_Genes"
   ]
  },
  {
   "cell_type": "code",
   "execution_count": null,
   "metadata": {},
   "outputs": [],
   "source": [
    "#(2)\n",
    "SELECT(Genes.Gene_ENGS) as 'Expressed Genes' \n",
    "from Sample_Description inner join Samples_Regulations ON Sample_Description.Sample_ID = Samples_Regulations.Sample_ID\n",
    "INNER JOIN Genes ON Samples_Regulations.Gene_ID = Genes.Gene_ID\n",
    "where Sample_Description.Sample_ID=1"
   ]
  },
  {
   "cell_type": "code",
   "execution_count": null,
   "metadata": {},
   "outputs": [],
   "source": [
    "#(3) \n",
    "match (s:Sample)-[:EXPRESSED]->(g:Gene) where ID(s)=44637 match (g)-[:GDA]-(d:Disease)  return d.name as Diseases_Name"
   ]
  },
  {
   "cell_type": "code",
   "execution_count": null,
   "metadata": {},
   "outputs": [],
   "source": [
    "#(3)\n",
    "SELECT Sample_Description.Sample_code, Genes.Gene_ENGS, Disease.Disease_Name\n",
    "from Sample_Description \n",
    "INNER JOIN Samples_Regulations ON Sample_Description.Sample_ID = Samples_Regulations.Sample_ID\n",
    "INNER JOIN Genes ON Samples_Regulations.Gene_ID = Genes.Gene_ID\n",
    "INNER JOIN GDA ON Genes.Gene_ID=GDA.Gene_ID \n",
    "INNER JOIN Disease ON GDA.DIsease_ID=Disease.Disease_ID\n",
    "where Sample_Description.Sample_ID=1"
   ]
  },
  {
   "cell_type": "code",
   "execution_count": null,
   "metadata": {},
   "outputs": [],
   "source": [
    "#(4)\n",
    "MATCH (s1:Sample)-[:EXPRESSED]->(g:Gene)<-[:EXPRESSED]-(s2:Sample)  where ID(s1)=44637 and ID(s2)=44638  return g.ENSEMBL as Expressed_Genes"
   ]
  },
  {
   "cell_type": "code",
   "execution_count": null,
   "metadata": {},
   "outputs": [],
   "source": [
    "#(4)\n",
    "SELECT  Genes.Gene_ENGS, Disease.Disease_Name\n",
    "from Sample_Description \n",
    "INNER JOIN Samples_Regulations ON Sample_Description.Sample_ID = Samples_Regulations.Sample_ID\n",
    "INNER JOIN Genes ON Samples_Regulations.Gene_ID = Genes.Gene_ID\n",
    "INNER JOIN GDA ON Genes.Gene_ID=GDA.Gene_ID \n",
    "INNER JOIN Disease ON GDA.DIsease_ID=Disease.Disease_ID\n",
    "where Sample_Description.Sample_ID=1\n",
    "INTERSECT\n",
    "SELECT  Genes.Gene_ENGS, Disease.Disease_Name\n",
    "from Sample_Description \n",
    "INNER JOIN Samples_Regulations ON Sample_Description.Sample_ID = Samples_Regulations.Sample_ID\n",
    "INNER JOIN Genes ON Samples_Regulations.Gene_ID = Genes.Gene_ID\n",
    "INNER JOIN GDA ON Genes.Gene_ID=GDA.Gene_ID \n",
    "INNER JOIN Disease ON GDA.DIsease_ID=Disease.Disease_ID\n",
    "where Sample_Description.Sample_ID=2"
   ]
  },
  {
   "cell_type": "markdown",
   "metadata": {},
   "source": [
    "Query in Neo4j fron GRNs"
   ]
  },
  {
   "cell_type": "code",
   "execution_count": null,
   "metadata": {},
   "outputs": [],
   "source": [
    "match (s1:Sample)-[t1:TYPE]-(c1:Condition:Infected)\n",
    "match (s2:Sample)-[t2:TYPE]-(c2:Condition:Healthy)\n",
    "match (tf:TF)-[e:EXPRESSED]-(s1) where not (tf)-[:EXPRESSED]-(s2) return s1,s2,t1,t2,c1,c2,tf,e"
   ]
  },
  {
   "cell_type": "code",
   "execution_count": null,
   "metadata": {},
   "outputs": [],
   "source": [
    "match samp1=(s1:Sample)-[t1:TYPE]-(c1:Condition:Healthy)\n",
    "match samp2=(s2:Sample)-[t2:TYPE]-(c2:Condition:Infected)\n",
    "match tfs=(tf:TF)-[e:EXPRESSED]-(s1) where not (tf)-[:EXPRESSED]-(s2) \n",
    "with tfs \n",
    "match(r:TF)-[:GDA]-(d:Disease) where r IN nodes(tfs)  return d"
   ]
  },
  {
   "cell_type": "code",
   "execution_count": null,
   "metadata": {},
   "outputs": [],
   "source": [
    "match samp1=(s1:Sample)-[t1:TYPE]-(c1:Condition:Healthy)\n",
    "match samp2=(s2:Sample)-[t2:TYPE]-(c2:Condition:Infected)\n",
    "match tfs=(tf:TF)-[e:EXPRESSED]-(s1) where not (tf)-[:EXPRESSED]-(s2) \n",
    "with tfs ,samp1,samp2\n",
    "match(r1:TF)-[r2:GDA]-(d:Disease) where r1 IN nodes(tfs) and d.name contains 'iabetes' \n",
    "return r1,r2, d,nodes(samp1),nodes(samp2),relationships(samp1),relationships(samp2),relationships(tfs)"
   ]
  },
  {
   "cell_type": "code",
   "execution_count": null,
   "metadata": {},
   "outputs": [],
   "source": [
    "match samp1=(s1:Sample)-[t1:TYPE]-(c1:Condition:Healthy)\n",
    "match samp2=(s2:Sample)-[t2:TYPE]-(c2:Condition:Infected)\n",
    "match tfs=(tf:TF)-[e:EXPRESSED]-(s1) where not (tf)-[:EXPRESSED]-(s2) \n",
    "with tfs ,samp1,samp2\n",
    "match(r1:TF)-[r2:GDA]-(d:Disease) where r1 IN nodes(tfs) and d.name contains 'tension'\n",
    "return r1,r2, d,nodes(samp1),nodes(samp2),relationships(samp1),relationships(samp2),relationships(tfs)"
   ]
  }
 ],
 "metadata": {
  "language_info": {
   "name": "python"
  },
  "orig_nbformat": 4
 },
 "nbformat": 4,
 "nbformat_minor": 2
}
