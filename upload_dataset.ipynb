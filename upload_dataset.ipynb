{
    "cells": [
        {
            "cell_type": "code",
            "execution_count": 1,
            "metadata": {},
            "outputs": [],
            "source": [
                "import pandas as pd\n",
                "import numpy as np \n",
                "from py2neo import Node,Relationship,Graph, database,NodeMatcher \n",
                "import sys\n",
                "import os"
            ]
        },
        {
            "cell_type": "code",
            "execution_count": 2,
            "metadata": {},
            "outputs": [],
            "source": [
                "#primer archivo que crea nodos datasets, samples y la relacion entre ellos\n",
                "a=\"C:/Users/espin/Bio-WS/Git_Scripts/metadata_PRJNA639275.csv\" \n",
                "runs_metadata=pd.read_csv(a)\n",
                "runs_metadata.set_axis([0,1,2,3,4], axis=1,inplace=True)"
            ]
        },
        {
            "cell_type": "code",
            "execution_count": 5,
            "metadata": {},
            "outputs": [
                {
                    "data": {
                        "text/html": [
                            "<div>\n",
                            "<style scoped>\n",
                            "    .dataframe tbody tr th:only-of-type {\n",
                            "        vertical-align: middle;\n",
                            "    }\n",
                            "\n",
                            "    .dataframe tbody tr th {\n",
                            "        vertical-align: top;\n",
                            "    }\n",
                            "\n",
                            "    .dataframe thead th {\n",
                            "        text-align: right;\n",
                            "    }\n",
                            "</style>\n",
                            "<table border=\"1\" class=\"dataframe\">\n",
                            "  <thead>\n",
                            "    <tr style=\"text-align: right;\">\n",
                            "      <th></th>\n",
                            "      <th>0</th>\n",
                            "      <th>1</th>\n",
                            "      <th>2</th>\n",
                            "      <th>3</th>\n",
                            "      <th>4</th>\n",
                            "    </tr>\n",
                            "  </thead>\n",
                            "  <tbody>\n",
                            "    <tr>\n",
                            "      <th>0</th>\n",
                            "      <td>SRR12007821</td>\n",
                            "      <td>Convalescent</td>\n",
                            "      <td>whole blood</td>\n",
                            "      <td>male</td>\n",
                            "      <td>SAMN15230292</td>\n",
                            "    </tr>\n",
                            "    <tr>\n",
                            "      <th>1</th>\n",
                            "      <td>SRR12007822</td>\n",
                            "      <td>Convalescent</td>\n",
                            "      <td>whole blood</td>\n",
                            "      <td>male</td>\n",
                            "      <td>SAMN15230292</td>\n",
                            "    </tr>\n",
                            "    <tr>\n",
                            "      <th>2</th>\n",
                            "      <td>SRR12007823</td>\n",
                            "      <td>COVID-19</td>\n",
                            "      <td>whole blood</td>\n",
                            "      <td>female</td>\n",
                            "      <td>SAMN15230291</td>\n",
                            "    </tr>\n",
                            "    <tr>\n",
                            "      <th>3</th>\n",
                            "      <td>SRR12007824</td>\n",
                            "      <td>COVID-19</td>\n",
                            "      <td>whole blood</td>\n",
                            "      <td>female</td>\n",
                            "      <td>SAMN15230291</td>\n",
                            "    </tr>\n",
                            "    <tr>\n",
                            "      <th>4</th>\n",
                            "      <td>SRR12007825</td>\n",
                            "      <td>COVID-19</td>\n",
                            "      <td>whole blood</td>\n",
                            "      <td>male</td>\n",
                            "      <td>SAMN15230290</td>\n",
                            "    </tr>\n",
                            "  </tbody>\n",
                            "</table>\n",
                            "</div>"
                        ],
                        "text/plain": [
                            "             0             1            2       3             4\n",
                            "0  SRR12007821  Convalescent  whole blood    male  SAMN15230292\n",
                            "1  SRR12007822  Convalescent  whole blood    male  SAMN15230292\n",
                            "2  SRR12007823      COVID-19  whole blood  female  SAMN15230291\n",
                            "3  SRR12007824      COVID-19  whole blood  female  SAMN15230291\n",
                            "4  SRR12007825      COVID-19  whole blood    male  SAMN15230290"
                        ]
                    },
                    "execution_count": 5,
                    "metadata": {},
                    "output_type": "execute_result"
                }
            ],
            "source": [
                "runs_metadata.head()"
            ]
        },
        {
            "cell_type": "code",
            "execution_count": 77,
            "metadata": {},
            "outputs": [],
            "source": [
                "graph=Graph()# or Graph('bolt://neo4j@localhost:7687')"
            ]
        },
        {
            "cell_type": "code",
            "execution_count": 82,
            "metadata": {},
            "outputs": [
                {
                    "data": {
                        "text/plain": [
                            "('Convalescent', 'PRJNA639275')"
                        ]
                    },
                    "execution_count": 82,
                    "metadata": {},
                    "output_type": "execute_result"
                }
            ],
            "source": [
                "runs_metadata[1][1], acc"
            ]
        },
        {
            "cell_type": "code",
            "execution_count": 87,
            "metadata": {},
            "outputs": [
                {
                    "data": {
                        "text/html": [
                            "(No data)"
                        ],
                        "text/plain": [
                            "(No data)"
                        ]
                    },
                    "execution_count": 87,
                    "metadata": {},
                    "output_type": "execute_result"
                }
            ],
            "source": [
                " graph.run('MERGE(d:Database{name:$GEO}) MERGE(b:BioProyect{accession:$acc}) CREATE (d)<-[:IN]-(b)',GEO='GEO',acc=acc)\n"
            ]
        },
        {
            "cell_type": "code",
            "execution_count": 72,
            "metadata": {},
            "outputs": [
                {
                    "data": {
                        "text/plain": [
                            "('PRJNA639275', 'SAMN15230290', 'COVID-19')"
                        ]
                    },
                    "execution_count": 72,
                    "metadata": {},
                    "output_type": "execute_result"
                }
            ],
            "source": [
                "i=4\n",
                "SAMN=runs_metadata[4][i]\n",
                "condition=runs_metadata[1][i]\n",
                "acc, SAMN, condition"
            ]
        },
        {
            "cell_type": "code",
            "execution_count": 209,
            "metadata": {},
            "outputs": [],
            "source": [
                "for i in range(0,len(runs_metadata[0])): \n",
                "    graph.run('MATCH(d:BioProyect{accession:$acc}) MERGE(s:Sample{SAMN:$SAMN}) MERGE(d)-[:HAVE{condition:$condition}]->(s)',acc=acc,SAMN=runs_metadata[4][i],condition=runs_metadata[1][i])\n"
            ]
        },
        {
            "cell_type": "markdown",
            "metadata": {},
            "source": [
                "TAGER LOS DATASETS"
            ]
        },
        {
            "cell_type": "code",
            "execution_count": 210,
            "metadata": {},
            "outputs": [],
            "source": [
                "lib='RNAseq'\n",
                "ins='Illumina NovaSeq 6000'\n",
                "subct='PBMC'\n",
                "ct='Blood'\n",
                "org='homo sapiens'\n",
                "for i in runs_metadata[4].unique():\n",
                "    graph.run(\"MATCH(a:Organism{name:$s}) match(b:Sample{SAMN:$code}) create(a)-[:TAGED]->(b)\",code=i,s=org)\n",
                "    graph.run(\"MATCH(a:Matrix{name:$s}) match(b:Sample{SAMN:$code}) create(a)-[:TAGED]->(b)\",code=i,s=ct)\n",
                "    graph.run(\"MATCH(a:SubMatrix{name:$s}) match(b:Sample{SAMN:$code}) create(a)-[:TAGED]->(b)\",code=i,s=subct)\n",
                "    graph.run(\"MATCH(a:Library{type:$s}) match(b:Sample{SAMN:$code}) create(a)-[:TAGED]->(b)\",code=i,s=lib)\n",
                "    graph.run(\"MATCH(a:Instrument{type:$s}) match(b:Sample{SAMN:$code}) create(a)-[:TAGED]->(b)\",code=i,s=ins)"
            ]
        },
        {
            "cell_type": "code",
            "execution_count": 128,
            "metadata": {},
            "outputs": [],
            "source": [
                "graph=Graph()# or Graph('bolt://neo4j@localhost:7687')"
            ]
        },
        {
            "cell_type": "markdown",
            "metadata": {},
            "source": [
                "CREAR LAS CONCECCIONES ENTRE SAMPLE Y SUS GENES EXPRESADOS"
            ]
        },
        {
            "cell_type": "code",
            "execution_count": 6,
            "metadata": {},
            "outputs": [],
            "source": [
                "# read.csv -> Conteo_gen para el sample \n",
                "h=\"C:/Users/espin/Bio-WS/PROYECTS/HUMAN-COVID/dataset_norm.csv\" \n",
                "Conteo_gen=pd.read_csv(h)\n"
            ]
        },
        {
            "cell_type": "code",
            "execution_count": 114,
            "metadata": {},
            "outputs": [
                {
                    "data": {
                        "text/html": [
                            "<div>\n",
                            "<style scoped>\n",
                            "    .dataframe tbody tr th:only-of-type {\n",
                            "        vertical-align: middle;\n",
                            "    }\n",
                            "\n",
                            "    .dataframe tbody tr th {\n",
                            "        vertical-align: top;\n",
                            "    }\n",
                            "\n",
                            "    .dataframe thead th {\n",
                            "        text-align: right;\n",
                            "    }\n",
                            "</style>\n",
                            "<table border=\"1\" class=\"dataframe\">\n",
                            "  <thead>\n",
                            "    <tr style=\"text-align: right;\">\n",
                            "      <th></th>\n",
                            "      <th>Unnamed: 0</th>\n",
                            "      <th>SRR12007821</th>\n",
                            "      <th>SRR12007822</th>\n",
                            "      <th>SRR12007823</th>\n",
                            "      <th>SRR12007824</th>\n",
                            "      <th>SRR12007825</th>\n",
                            "      <th>SRR12007826</th>\n",
                            "      <th>SRR12007827</th>\n",
                            "      <th>SRR12007828</th>\n",
                            "      <th>SRR12007829</th>\n",
                            "      <th>...</th>\n",
                            "      <th>SRR12007879</th>\n",
                            "      <th>SRR12007880</th>\n",
                            "      <th>SRR12007881</th>\n",
                            "      <th>SRR12007882</th>\n",
                            "      <th>SRR12007883</th>\n",
                            "      <th>SRR12007884</th>\n",
                            "      <th>SRR12007885</th>\n",
                            "      <th>SRR12007886</th>\n",
                            "      <th>SRR12007887</th>\n",
                            "      <th>SRR12007888</th>\n",
                            "    </tr>\n",
                            "  </thead>\n",
                            "  <tbody>\n",
                            "    <tr>\n",
                            "      <th>0</th>\n",
                            "      <td>ENSG00000000003.14</td>\n",
                            "      <td>11</td>\n",
                            "      <td>10</td>\n",
                            "      <td>17</td>\n",
                            "      <td>30</td>\n",
                            "      <td>8</td>\n",
                            "      <td>11</td>\n",
                            "      <td>10</td>\n",
                            "      <td>13</td>\n",
                            "      <td>4</td>\n",
                            "      <td>...</td>\n",
                            "      <td>5</td>\n",
                            "      <td>10</td>\n",
                            "      <td>18</td>\n",
                            "      <td>23</td>\n",
                            "      <td>11</td>\n",
                            "      <td>5</td>\n",
                            "      <td>12</td>\n",
                            "      <td>16</td>\n",
                            "      <td>11</td>\n",
                            "      <td>14</td>\n",
                            "    </tr>\n",
                            "    <tr>\n",
                            "      <th>1</th>\n",
                            "      <td>ENSG00000000005.5</td>\n",
                            "      <td>0</td>\n",
                            "      <td>0</td>\n",
                            "      <td>0</td>\n",
                            "      <td>0</td>\n",
                            "      <td>0</td>\n",
                            "      <td>0</td>\n",
                            "      <td>0</td>\n",
                            "      <td>0</td>\n",
                            "      <td>0</td>\n",
                            "      <td>...</td>\n",
                            "      <td>0</td>\n",
                            "      <td>0</td>\n",
                            "      <td>0</td>\n",
                            "      <td>0</td>\n",
                            "      <td>0</td>\n",
                            "      <td>0</td>\n",
                            "      <td>0</td>\n",
                            "      <td>0</td>\n",
                            "      <td>0</td>\n",
                            "      <td>0</td>\n",
                            "    </tr>\n",
                            "    <tr>\n",
                            "      <th>2</th>\n",
                            "      <td>ENSG00000000419.12</td>\n",
                            "      <td>177</td>\n",
                            "      <td>168</td>\n",
                            "      <td>271</td>\n",
                            "      <td>326</td>\n",
                            "      <td>95</td>\n",
                            "      <td>115</td>\n",
                            "      <td>250</td>\n",
                            "      <td>264</td>\n",
                            "      <td>140</td>\n",
                            "      <td>...</td>\n",
                            "      <td>191</td>\n",
                            "      <td>184</td>\n",
                            "      <td>302</td>\n",
                            "      <td>306</td>\n",
                            "      <td>250</td>\n",
                            "      <td>273</td>\n",
                            "      <td>252</td>\n",
                            "      <td>280</td>\n",
                            "      <td>331</td>\n",
                            "      <td>350</td>\n",
                            "    </tr>\n",
                            "    <tr>\n",
                            "      <th>3</th>\n",
                            "      <td>ENSG00000000457.13</td>\n",
                            "      <td>229</td>\n",
                            "      <td>215</td>\n",
                            "      <td>211</td>\n",
                            "      <td>226</td>\n",
                            "      <td>150</td>\n",
                            "      <td>159</td>\n",
                            "      <td>175</td>\n",
                            "      <td>182</td>\n",
                            "      <td>128</td>\n",
                            "      <td>...</td>\n",
                            "      <td>216</td>\n",
                            "      <td>198</td>\n",
                            "      <td>346</td>\n",
                            "      <td>360</td>\n",
                            "      <td>245</td>\n",
                            "      <td>229</td>\n",
                            "      <td>273</td>\n",
                            "      <td>255</td>\n",
                            "      <td>306</td>\n",
                            "      <td>313</td>\n",
                            "    </tr>\n",
                            "    <tr>\n",
                            "      <th>4</th>\n",
                            "      <td>ENSG00000000460.16</td>\n",
                            "      <td>87</td>\n",
                            "      <td>97</td>\n",
                            "      <td>104</td>\n",
                            "      <td>114</td>\n",
                            "      <td>71</td>\n",
                            "      <td>77</td>\n",
                            "      <td>152</td>\n",
                            "      <td>132</td>\n",
                            "      <td>71</td>\n",
                            "      <td>...</td>\n",
                            "      <td>61</td>\n",
                            "      <td>64</td>\n",
                            "      <td>110</td>\n",
                            "      <td>118</td>\n",
                            "      <td>120</td>\n",
                            "      <td>115</td>\n",
                            "      <td>79</td>\n",
                            "      <td>100</td>\n",
                            "      <td>95</td>\n",
                            "      <td>108</td>\n",
                            "    </tr>\n",
                            "  </tbody>\n",
                            "</table>\n",
                            "<p>5 rows × 69 columns</p>\n",
                            "</div>"
                        ],
                        "text/plain": [
                            "           Unnamed: 0  SRR12007821  SRR12007822  SRR12007823  SRR12007824  \\\n",
                            "0  ENSG00000000003.14           11           10           17           30   \n",
                            "1   ENSG00000000005.5            0            0            0            0   \n",
                            "2  ENSG00000000419.12          177          168          271          326   \n",
                            "3  ENSG00000000457.13          229          215          211          226   \n",
                            "4  ENSG00000000460.16           87           97          104          114   \n",
                            "\n",
                            "   SRR12007825  SRR12007826  SRR12007827  SRR12007828  SRR12007829  ...  \\\n",
                            "0            8           11           10           13            4  ...   \n",
                            "1            0            0            0            0            0  ...   \n",
                            "2           95          115          250          264          140  ...   \n",
                            "3          150          159          175          182          128  ...   \n",
                            "4           71           77          152          132           71  ...   \n",
                            "\n",
                            "   SRR12007879  SRR12007880  SRR12007881  SRR12007882  SRR12007883  \\\n",
                            "0            5           10           18           23           11   \n",
                            "1            0            0            0            0            0   \n",
                            "2          191          184          302          306          250   \n",
                            "3          216          198          346          360          245   \n",
                            "4           61           64          110          118          120   \n",
                            "\n",
                            "   SRR12007884  SRR12007885  SRR12007886  SRR12007887  SRR12007888  \n",
                            "0            5           12           16           11           14  \n",
                            "1            0            0            0            0            0  \n",
                            "2          273          252          280          331          350  \n",
                            "3          229          273          255          306          313  \n",
                            "4          115           79          100           95          108  \n",
                            "\n",
                            "[5 rows x 69 columns]"
                        ]
                    },
                    "execution_count": 114,
                    "metadata": {},
                    "output_type": "execute_result"
                }
            ],
            "source": [
                "Conteo_gen.head()"
            ]
        },
        {
            "cell_type": "code",
            "execution_count": 8,
            "metadata": {},
            "outputs": [
                {
                    "data": {
                        "text/plain": [
                            "35220"
                        ]
                    },
                    "execution_count": 8,
                    "metadata": {},
                    "output_type": "execute_result"
                }
            ],
            "source": [
                "len(Conteo_gen)"
            ]
        },
        {
            "cell_type": "code",
            "execution_count": 117,
            "metadata": {},
            "outputs": [
                {
                    "data": {
                        "text/plain": [
                            "(0    ENSG00000000003\n",
                            " 1    ENSG00000000005\n",
                            " 2    ENSG00000000419\n",
                            " 3    ENSG00000000457\n",
                            " 4    ENSG00000000460\n",
                            " Name: Unnamed: 0, dtype: object,\n",
                            "                  SRR12007821  SRR12007822  SRR12007823  SRR12007824  \\\n",
                            " Unnamed: 0                                                            \n",
                            " ENSG00000000003           11           10           17           30   \n",
                            " ENSG00000000005            0            0            0            0   \n",
                            " ENSG00000000419          177          168          271          326   \n",
                            " ENSG00000000457          229          215          211          226   \n",
                            " ENSG00000000460           87           97          104          114   \n",
                            " \n",
                            "                  SRR12007825  SRR12007826  SRR12007827  SRR12007828  \\\n",
                            " Unnamed: 0                                                            \n",
                            " ENSG00000000003            8           11           10           13   \n",
                            " ENSG00000000005            0            0            0            0   \n",
                            " ENSG00000000419           95          115          250          264   \n",
                            " ENSG00000000457          150          159          175          182   \n",
                            " ENSG00000000460           71           77          152          132   \n",
                            " \n",
                            "                  SRR12007829  SRR12007830  ...  SRR12007879  SRR12007880  \\\n",
                            " Unnamed: 0                                 ...                             \n",
                            " ENSG00000000003            4            4  ...            5           10   \n",
                            " ENSG00000000005            0            0  ...            0            0   \n",
                            " ENSG00000000419          140          141  ...          191          184   \n",
                            " ENSG00000000457          128           84  ...          216          198   \n",
                            " ENSG00000000460           71           81  ...           61           64   \n",
                            " \n",
                            "                  SRR12007881  SRR12007882  SRR12007883  SRR12007884  \\\n",
                            " Unnamed: 0                                                            \n",
                            " ENSG00000000003           18           23           11            5   \n",
                            " ENSG00000000005            0            0            0            0   \n",
                            " ENSG00000000419          302          306          250          273   \n",
                            " ENSG00000000457          346          360          245          229   \n",
                            " ENSG00000000460          110          118          120          115   \n",
                            " \n",
                            "                  SRR12007885  SRR12007886  SRR12007887  SRR12007888  \n",
                            " Unnamed: 0                                                           \n",
                            " ENSG00000000003           12           16           11           14  \n",
                            " ENSG00000000005            0            0            0            0  \n",
                            " ENSG00000000419          252          280          331          350  \n",
                            " ENSG00000000457          273          255          306          313  \n",
                            " ENSG00000000460           79          100           95          108  \n",
                            " \n",
                            " [5 rows x 68 columns])"
                        ]
                    },
                    "execution_count": 117,
                    "metadata": {},
                    "output_type": "execute_result"
                }
            ],
            "source": [
                "genes=Conteo_gen['Unnamed: 0']#si se corre dos veces va a tirar un error de que unnamed:0 no va a existir\n",
                "genes = genes.str[:15]\n",
                "Conteo_gen['Unnamed: 0']=genes\n",
                "Conteo_gen.set_index('Unnamed: 0',inplace=True)\n",
                "\n",
                "genes.head(),Conteo_gen[0].head()"
            ]
        },
        {
            "cell_type": "code",
            "execution_count": 200,
            "metadata": {},
            "outputs": [],
            "source": [
                "samples=Conteo_gen.columns\n",
                "samples=Conteo_gen.columns[0:]\n",
                "#samples"
            ]
        },
        {
            "cell_type": "code",
            "execution_count": 212,
            "metadata": {},
            "outputs": [
                {
                    "data": {
                        "text/plain": [
                            "217.63985681533813"
                        ]
                    },
                    "execution_count": 212,
                    "metadata": {},
                    "output_type": "execute_result"
                }
            ],
            "source": [
                "import time"
            ]
        },
        {
            "cell_type": "code",
            "execution_count": 224,
            "metadata": {},
            "outputs": [
                {
                    "name": "stdout",
                    "output_type": "stream",
                    "text": [
                        "Completed! Sample: SAMN15230292 SRR12007821 SRR12007822 3.1824999999999997 min\n",
                        "Completed! Sample: SAMN15230291 SRR12007823 SRR12007824 3.185166666666667 min\n",
                        "Completed! Sample: SAMN15230290 SRR12007825 SRR12007826 3.1768333333333336 min\n",
                        "Completed! Sample: SAMN15230289 SRR12007827 SRR12007828 3.263 min\n",
                        "Completed! Sample: SAMN15230288 SRR12007829 SRR12007830 3.2203333333333335 min\n",
                        "Completed! Sample: SAMN15230287 SRR12007831 SRR12007832 3.191333333333333 min\n",
                        "Completed! Sample: SAMN15230286 SRR12007833 SRR12007834 3.1151666666666666 min\n",
                        "Completed! Sample: SAMN15230285 SRR12007835 SRR12007836 3.0548333333333333 min\n",
                        "Completed! Sample: SAMN15230284 SRR12007837 SRR12007838 3.2871666666666663 min\n",
                        "Completed! Sample: SAMN15230283 SRR12007839 SRR12007840 3.2071666666666667 min\n",
                        "Completed! Sample: SAMN15230282 SRR12007841 SRR12007842 3.408 min\n",
                        "Completed! Sample: SAMN15230281 SRR12007843 SRR12007844 3.339 min\n",
                        "Completed! Sample: SAMN15230280 SRR12007845 SRR12007846 3.0541666666666667 min\n",
                        "Completed! Sample: SAMN15230279 SRR12007847 SRR12007848 3.1405000000000003 min\n",
                        "Completed! Sample: SAMN15230278 SRR12007849 SRR12007850 3.2095 min\n",
                        "Completed! Sample: SAMN15230277 SRR12007851 SRR12007852 80.38116666666666 min\n",
                        "Completed! Sample: SAMN15230276 SRR12007853 SRR12007854 9.2415 min\n",
                        "Completed! Sample: SAMN15230275 SRR12007855 SRR12007856 9.1465 min\n",
                        "Completed! Sample: SAMN15230274 SRR12007857 SRR12007858 5.086 min\n",
                        "Completed! Sample: SAMN15230273 SRR12007859 SRR12007860 3.1703333333333332 min\n",
                        "Completed! Sample: SAMN15230272 SRR12007861 SRR12007862 3.1229999999999998 min\n",
                        "Completed! Sample: SAMN15230271 SRR12007863 SRR12007864 3.1166666666666667 min\n",
                        "Completed! Sample: SAMN15230270 SRR12007865 SRR12007866 3.0668333333333333 min\n",
                        "Completed! Sample: SAMN15230316 SRR12007867 SRR12007868 10.379833333333332 min\n",
                        "Completed! Sample: SAMN15230315 SRR12007869 SRR12007870 3.1173333333333333 min\n",
                        "Completed! Sample: SAMN15230314 SRR12007871 SRR12007872 3.1225 min\n",
                        "Completed! Sample: SAMN15230313 SRR12007873 SRR12007874 3.1173333333333333 min\n",
                        "Completed! Sample: SAMN15230309 SRR12007875 SRR12007876 3.0525 min\n",
                        "Completed! Sample: SAMN15230308 SRR12007877 SRR12007878 3.0573333333333332 min\n",
                        "Completed! Sample: SAMN15230307 SRR12007879 SRR12007880 3.1689999999999996 min\n",
                        "Completed! Sample: SAMN15230312 SRR12007881 SRR12007882 3.2751666666666663 min\n",
                        "Completed! Sample: SAMN15230311 SRR12007883 SRR12007884 3.183666666666667 min\n",
                        "Completed! Sample: SAMN15230310 SRR12007885 SRR12007886 3.0593333333333335 min\n",
                        "Completed! Sample: SAMN15230306 SRR12007887 SRR12007888 3.1643333333333334 min\n"
                    ]
                }
            ],
            "source": [
                "i=0\n",
                "for s in runs_metadata[4].unique():\n",
                "    segRUN=time.time()\n",
                "    for ENSG in genes:\n",
                "        av=(int(Conteo_gen[samples[0+i]][ENSG])+int(Conteo_gen[samples[(1+i)]][ENSG]))/2 #promedio valor normalizado expresin genes en las run de la sample\n",
                "        if av>10:\n",
                "            graph.run(\"MATCH(s:Sample{SAMN:$code}) MATCH(g:Gene{ENSEMBL:$ENSG}) CREATE (s)-[:EXPRESSED{count:$value}]->(g)\",code=s,ENSG=ENSG,value=av)\n",
                "    print('Completed! Sample:',s,samples[0+i],samples[(1+i)],round(time.time()-segRUN,2)/60,'min')\n",
                "    i=i+2\n",
                "       "
            ]
        },
        {
            "cell_type": "code",
            "execution_count": 207,
            "metadata": {},
            "outputs": [
                {
                    "data": {
                        "text/html": [
                            "<div>\n",
                            "<style scoped>\n",
                            "    .dataframe tbody tr th:only-of-type {\n",
                            "        vertical-align: middle;\n",
                            "    }\n",
                            "\n",
                            "    .dataframe tbody tr th {\n",
                            "        vertical-align: top;\n",
                            "    }\n",
                            "\n",
                            "    .dataframe thead th {\n",
                            "        text-align: right;\n",
                            "    }\n",
                            "</style>\n",
                            "<table border=\"1\" class=\"dataframe\">\n",
                            "  <thead>\n",
                            "    <tr style=\"text-align: right;\">\n",
                            "      <th></th>\n",
                            "      <th>0</th>\n",
                            "      <th>1</th>\n",
                            "      <th>2</th>\n",
                            "      <th>3</th>\n",
                            "      <th>4</th>\n",
                            "    </tr>\n",
                            "  </thead>\n",
                            "  <tbody>\n",
                            "    <tr>\n",
                            "      <th>63</th>\n",
                            "      <td>SRR12007884</td>\n",
                            "      <td>Healthy</td>\n",
                            "      <td>whole blood</td>\n",
                            "      <td>male</td>\n",
                            "      <td>SAMN15230311</td>\n",
                            "    </tr>\n",
                            "    <tr>\n",
                            "      <th>64</th>\n",
                            "      <td>SRR12007885</td>\n",
                            "      <td>Healthy</td>\n",
                            "      <td>whole blood</td>\n",
                            "      <td>female</td>\n",
                            "      <td>SAMN15230310</td>\n",
                            "    </tr>\n",
                            "    <tr>\n",
                            "      <th>65</th>\n",
                            "      <td>SRR12007886</td>\n",
                            "      <td>Healthy</td>\n",
                            "      <td>whole blood</td>\n",
                            "      <td>female</td>\n",
                            "      <td>SAMN15230310</td>\n",
                            "    </tr>\n",
                            "    <tr>\n",
                            "      <th>66</th>\n",
                            "      <td>SRR12007887</td>\n",
                            "      <td>Healthy</td>\n",
                            "      <td>whole blood</td>\n",
                            "      <td>male</td>\n",
                            "      <td>SAMN15230306</td>\n",
                            "    </tr>\n",
                            "    <tr>\n",
                            "      <th>67</th>\n",
                            "      <td>SRR12007888</td>\n",
                            "      <td>Healthy</td>\n",
                            "      <td>whole blood</td>\n",
                            "      <td>male</td>\n",
                            "      <td>SAMN15230306</td>\n",
                            "    </tr>\n",
                            "  </tbody>\n",
                            "</table>\n",
                            "</div>"
                        ],
                        "text/plain": [
                            "              0        1            2       3             4\n",
                            "63  SRR12007884  Healthy  whole blood    male  SAMN15230311\n",
                            "64  SRR12007885  Healthy  whole blood  female  SAMN15230310\n",
                            "65  SRR12007886  Healthy  whole blood  female  SAMN15230310\n",
                            "66  SRR12007887  Healthy  whole blood    male  SAMN15230306\n",
                            "67  SRR12007888  Healthy  whole blood    male  SAMN15230306"
                        ]
                    },
                    "execution_count": 207,
                    "metadata": {},
                    "output_type": "execute_result"
                }
            ],
            "source": [
                "runs_metadata.tail()"
            ]
        },
        {
            "cell_type": "code",
            "execution_count": null,
            "metadata": {},
            "outputs": [],
            "source": []
        }
    ],
    "metadata": {
        "interpreter": {
            "hash": "2c1d810cbdec53ec64946343f3c89d77305c51d6346f2ac7bc7d3a93293d3fd2"
        },
        "kernelspec": {
            "display_name": "Python 3.9.1 64-bit",
            "name": "python3"
        },
        "language_info": {
            "codemirror_mode": {
                "name": "ipython",
                "version": 3
            },
            "file_extension": ".py",
            "mimetype": "text/x-python",
            "name": "python",
            "nbconvert_exporter": "python",
            "pygments_lexer": "ipython3",
            "version": "3.9.1"
        },
        "orig_nbformat": 4
    },
    "nbformat": 4,
    "nbformat_minor": 2
}
