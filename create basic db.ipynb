{
    "cells": [
        {
            "cell_type": "code",
            "execution_count": 1,
            "metadata": {},
            "outputs": [],
            "source": [
                "import pandas as pd\n",
                "import numpy as np \n",
                "from py2neo import Node,Relationship,Graph, database,NodeMatcher "
            ]
        },
        {
            "cell_type": "markdown",
            "metadata": {},
            "source": [
                "CREACION DE LOS NOSOS GEN"
            ]
        },
        {
            "cell_type": "code",
            "execution_count": 24,
            "metadata": {},
            "outputs": [],
            "source": [
                "graph=Graph()# or Graph('bolt://neo4j@localhost:7687')"
            ]
        },
        {
            "cell_type": "code",
            "execution_count": 26,
            "metadata": {},
            "outputs": [
                {
                    "data": {
                        "text/plain": [
                            "25846"
                        ]
                    },
                    "execution_count": 26,
                    "metadata": {},
                    "output_type": "execute_result"
                }
            ],
            "source": [
                "genes=pd.read_csv(r\"C:\\Users\\espin\\OneDrive\\Escritorio\\DDBB\\genes.csv\")\n",
                "genes['ENSEMBL'].head\n",
                "g=genes['ENSEMBL'].unique()\n",
                "syb=genes['SYMBOL'].unique()\n",
                "genes2=genes.drop_duplicates(subset=['ENSEMBL']).reset_index()#mirar indices en el siguiente ejecutable(66 y 67)\n",
                "len(syb)\n",
                "#genes['ENSEMBL'].head,len(g),len(genes2),genes2.head"
            ]
        },
        {
            "cell_type": "code",
            "execution_count": 27,
            "metadata": {},
            "outputs": [
                {
                    "data": {
                        "text/plain": [
                            "(            ENSEMBL    SYMBOL                            GENENAME\n",
                            " 65  ENSG00000004864  SLC25A13  solute carrier family 25 member 13\n",
                            " 66  ENSG00000004866       ST7     suppression of tumorigenicity 7\n",
                            " 67  ENSG00000004866   ST7-OT3        ST7 overlapping transcript 3\n",
                            " 68  ENSG00000004897     CDC27              cell division cycle 27,\n",
                            "     index          ENSEMBL    SYMBOL  \\\n",
                            " 65     65  ENSG00000004864  SLC25A13   \n",
                            " 66     66  ENSG00000004866       ST7   \n",
                            " 67     68  ENSG00000004897     CDC27   \n",
                            " 68     69  ENSG00000004939    SLC4A1   \n",
                            " \n",
                            "                                              GENENAME  \n",
                            " 65                 solute carrier family 25 member 13  \n",
                            " 66                    suppression of tumorigenicity 7  \n",
                            " 67                             cell division cycle 27  \n",
                            " 68  solute carrier family 4 member 1 (Diego blood ...  ,\n",
                            " 35220)"
                        ]
                    },
                    "execution_count": 27,
                    "metadata": {},
                    "output_type": "execute_result"
                }
            ],
            "source": [
                "genes.iloc[65:69],genes2.iloc[65:69],len(genes2)"
            ]
        },
        {
            "cell_type": "code",
            "execution_count": 22,
            "metadata": {},
            "outputs": [
                {
                    "data": {
                        "text/plain": [
                            "(25846,\n",
                            " array(['TSPAN6', 'TNMD', 'DPM1', 'SCYL3', 'C1orf112', 'FGR', 'CFH',\n",
                            "        'FUCA2', 'GCLC', 'NFYA'], dtype=object))"
                        ]
                    },
                    "execution_count": 22,
                    "metadata": {},
                    "output_type": "execute_result"
                }
            ],
            "source": [
                "#syb=sorted(syb)\n",
                "len(syb),syb[0:10]"
            ]
        },
        {
            "cell_type": "code",
            "execution_count": 28,
            "metadata": {},
            "outputs": [
                {
                    "data": {
                        "text/plain": [
                            "35220"
                        ]
                    },
                    "execution_count": 28,
                    "metadata": {},
                    "output_type": "execute_result"
                }
            ],
            "source": [
                "len(g)"
            ]
        },
        {
            "cell_type": "code",
            "execution_count": 9,
            "metadata": {},
            "outputs": [],
            "source": [
                "no_en_db=[]\n",
                "for gen in range(0,len(syb)):\n",
                "    A=graph.run(\"MATCH(g:Gene{name:$syb}) return g.name\",syb=syb[gen])\n",
                "    #cuando se corre MERGE se demora ~6 veses más que CREATE (134 s v/s 830)\n",
                "    if gen!=A:\n",
                "        no_en_db.append(gen)#lista de simbols que no estan en la listas"
            ]
        },
        {
            "cell_type": "code",
            "execution_count": 10,
            "metadata": {},
            "outputs": [
                {
                    "data": {
                        "text/plain": [
                            "25846"
                        ]
                    },
                    "execution_count": 10,
                    "metadata": {},
                    "output_type": "execute_result"
                }
            ],
            "source": [
                "len(no_en_db)"
            ]
        },
        {
            "cell_type": "code",
            "execution_count": 4,
            "metadata": {},
            "outputs": [
                {
                    "data": {
                        "text/plain": [
                            "Index(['index', 'ENSEMBL', 'SYMBOL', 'GENENAME'], dtype='object')"
                        ]
                    },
                    "execution_count": 4,
                    "metadata": {},
                    "output_type": "execute_result"
                }
            ],
            "source": [
                "genes2.columns"
            ]
        },
        {
            "cell_type": "code",
            "execution_count": 43,
            "metadata": {},
            "outputs": [],
            "source": [
                "for gen in range(0,len(genes2['ENSEMBL'])):\n",
                "    graph.run(\"CREATE(:Gene{ENSEMBL:$ensembl,SYB:$syb,name:$name})\",ensembl=genes2['ENSEMBL'][gen],syb=genes2['SYMBOL'][gen],name=genes2['GENENAME'][gen])\n",
                "    #cuando se corre MERGE se demora ~6 veses más (134 s v/s 830)"
            ]
        },
        {
            "cell_type": "code",
            "execution_count": 46,
            "metadata": {},
            "outputs": [
                {
                    "name": "stdout",
                    "output_type": "stream",
                    "text": [
                        "Se crearon 35220 nodos <Gene>\n"
                    ]
                }
            ],
            "source": [
                "r=graph.run('MATCH (n:Gene) RETURN count((n));').evaluate()\n",
                "print('Se crearon',r,'nodos <Gene>')"
            ]
        },
        {
            "cell_type": "markdown",
            "metadata": {},
            "source": [
                "CREAR RELACIONES DE REGULACION USANDO DOROTHEA"
            ]
        },
        {
            "cell_type": "code",
            "execution_count": 2,
            "metadata": {},
            "outputs": [
                {
                    "data": {
                        "text/plain": [
                            "486751"
                        ]
                    },
                    "execution_count": 2,
                    "metadata": {},
                    "output_type": "execute_result"
                }
            ],
            "source": [
                "genes=pd.read_csv(r\"C:\\Users\\espin\\OneDrive\\Escritorio\\DDBB\\dorothea_final.csv\", delimiter=\"\\t\",header=None)\n",
                "genes2=list(genes.to_records(index=False))#lista de tuplas\n",
                "len(genes2)"
            ]
        },
        {
            "cell_type": "code",
            "execution_count": 3,
            "metadata": {},
            "outputs": [
                {
                    "data": {
                        "text/plain": [
                            "(      0       1\n",
                            " 0  ADNP  ATF7IP\n",
                            " 1  ADNP  DYRK1A\n",
                            " 2  ADNP    TLK1\n",
                            " 3  ADNP   ZMYM4\n",
                            " 4  ADNP   ABCC1,\n",
                            " [('ADNP', 'ATF7IP'),\n",
                            "  ('ADNP', 'DYRK1A'),\n",
                            "  ('ADNP', 'TLK1'),\n",
                            "  ('ADNP', 'ZMYM4'),\n",
                            "  ('ADNP', 'ABCC1')])"
                        ]
                    },
                    "execution_count": 3,
                    "metadata": {},
                    "output_type": "execute_result"
                }
            ],
            "source": [
                "genes.head(), genes2[0:5]"
            ]
        },
        {
            "cell_type": "code",
            "execution_count": 5,
            "metadata": {},
            "outputs": [
                {
                    "data": {
                        "text/plain": [
                            "1395"
                        ]
                    },
                    "execution_count": 5,
                    "metadata": {},
                    "output_type": "execute_result"
                }
            ],
            "source": [
                "len(genes[0].unique())"
            ]
        },
        {
            "cell_type": "code",
            "execution_count": 70,
            "metadata": {},
            "outputs": [
                {
                    "data": {
                        "text/plain": [
                            "20244"
                        ]
                    },
                    "execution_count": 70,
                    "metadata": {},
                    "output_type": "execute_result"
                }
            ],
            "source": [
                "genes_dot=pd.concat([genes[0],genes[1]])\n",
                "genes_dot=genes_dot.unique()\n",
                "len(genes_dot)"
            ]
        },
        {
            "cell_type": "code",
            "execution_count": 57,
            "metadata": {},
            "outputs": [
                {
                    "data": {
                        "text/plain": [
                            "([('ADNP', 'CSF3R'),\n",
                            "  ('ADNP', 'CTA'),\n",
                            "  ('ADNP', 'CTB'),\n",
                            "  ('ADNP', 'CTD'),\n",
                            "  ('ADNP', 'CTRC'),\n",
                            "  ('ADNP', 'CUX1'),\n",
                            "  ('ADNP', 'CUX2'),\n",
                            "  ('ADNP', 'DAPK2'),\n",
                            "  ('ADNP', 'DENND1A'),\n",
                            "  ('ADNP', 'DEPDC5')],\n",
                            " 486751)"
                        ]
                    },
                    "execution_count": 57,
                    "metadata": {},
                    "output_type": "execute_result"
                }
            ],
            "source": [
                "genes2[100:110],len(genes2)"
            ]
        },
        {
            "cell_type": "markdown",
            "metadata": {},
            "source": [
                "CORROBORAR QUE TODOS LOS SIMBOLOS EXISTEN PARA TODAS LAS TUPLAS que se tienen, SI NO EXISTE REVISAR MANUALMENTE ese elemento"
            ]
        },
        {
            "cell_type": "code",
            "execution_count": 80,
            "metadata": {},
            "outputs": [
                {
                    "data": {
                        "text/plain": [
                            "'ADNP'"
                        ]
                    },
                    "execution_count": 80,
                    "metadata": {},
                    "output_type": "execute_result"
                }
            ],
            "source": [
                "genes_dot[0]"
            ]
        },
        {
            "cell_type": "code",
            "execution_count": 81,
            "metadata": {},
            "outputs": [
                {
                    "data": {
                        "text/plain": [
                            "1850"
                        ]
                    },
                    "execution_count": 81,
                    "metadata": {},
                    "output_type": "execute_result"
                }
            ],
            "source": [
                "no_en_db=[]\n",
                "for gen in genes_dot:\n",
                "    #print(\"MATCH(a:Gene{name:\",tupla[0],\") MATCH(b:Gene{name:\",tupla[1],\") CREATE (a)-[:Regulates]->(b)\")\n",
                "    A=graph.run(\"MATCH(a:Gene) WHERE a.SYB=$name RETURN a.SYB \",name=gen).evaluate()\n",
                "    if gen!=A:\n",
                "        no_en_db.append(gen)\n",
                "len(no_en_db)"
            ]
        },
        {
            "cell_type": "code",
            "execution_count": 84,
            "metadata": {},
            "outputs": [
                {
                    "data": {
                        "text/plain": [
                            "(1850,\n",
                            " ['GALNTL4',\n",
                            "  'LINC01475',\n",
                            "  'ATP5G2',\n",
                            "  'RPL7AP2',\n",
                            "  'FOXI1',\n",
                            "  'RN7SL47P',\n",
                            "  'CSNK1A1P1',\n",
                            "  'RNF219',\n",
                            "  'HD',\n",
                            "  'LRMP'])"
                        ]
                    },
                    "execution_count": 84,
                    "metadata": {},
                    "output_type": "execute_result"
                }
            ],
            "source": [
                "syb_en_dot_no_en_db=list(set(no_en_db))\n",
                "len(syb_en_dot_no_en_db),syb_en_dot_no_en_db[0:10]"
            ]
        },
        {
            "cell_type": "code",
            "execution_count": 40,
            "metadata": {},
            "outputs": [],
            "source": [
                "no_en_db1=pd.DataFrame(no_en_db)\n",
                "no_en_db1.to_csv('no_en_db.csv',index=False)"
            ]
        },
        {
            "cell_type": "code",
            "execution_count": null,
            "metadata": {},
            "outputs": [],
            "source": [
                "relation=[]\n",
                "for tupla in genes2:\n",
                "    #print(\"MATCH(a:Gene{name:\",tupla[0],\") MATCH(b:Gene{name:\",tupla[1],\") CREATE (a)-[:Regulates]->(b)\")\n",
                "    A=graph.run(\"MATCH(a:Gene) WHERE a.SYB=$name RETURN a.SYB \",name=tupla[0]).evaluate()\n",
                "    B=graph.run(\"MATCH(b:Gene) WHERE b.SYB=$name1 RETURN b.SYB\",name1=tupla[1]).evaluate()\n",
                "    if tupla[0]!=A or tupla[1]!=B:\n",
                "        relation.append(tupla)\n",
                "len(relation)"
            ]
        },
        {
            "cell_type": "code",
            "execution_count": 54,
            "metadata": {},
            "outputs": [],
            "source": [
                "for tupla in genes2:\n",
                "    #print(\"MATCH(a:Gene{name:\",tupla[0],\") MATCH(b:Gene{name:\",tupla[1],\") CREATE (a)-[:Regulates]->(b)\")\n",
                "    graph.run(\"MATCH(a:Gene{SYB:$name}),(b:Gene{SYB:$name1}) CREATE (a)-[:Regulates]->(b)\",name=tupla[0],name1=tupla[1])\n"
            ]
        },
        {
            "cell_type": "code",
            "execution_count": 79,
            "metadata": {},
            "outputs": [
                {
                    "name": "stdout",
                    "output_type": "stream",
                    "text": [
                        "Se crearon 464635 relaciones <Regulate>\n"
                    ]
                }
            ],
            "source": [
                "r=graph.run('MATCH ()-[r:Regulates]->()  return COUNT(r);').evaluate()\n",
                "print('Se crearon',r,'relaciones <Regulate>')"
            ]
        },
        {
            "cell_type": "code",
            "execution_count": null,
            "metadata": {},
            "outputs": [],
            "source": [
                "tupla=genes2[0]\n",
                "tupla"
            ]
        },
        {
            "cell_type": "code",
            "execution_count": null,
            "metadata": {},
            "outputs": [],
            "source": [
                "relation[0:10]"
            ]
        },
        {
            "cell_type": "markdown",
            "metadata": {},
            "source": [
                "CREAR RELACIONES DE GDA DISGENET"
            ]
        },
        {
            "cell_type": "code",
            "execution_count": 30,
            "metadata": {},
            "outputs": [],
            "source": [
                "GDAs=pd.read_csv(r\"C:\\Users\\espin\\OneDrive\\Escritorio\\DDBB\\GDAs_15_9_21.csv\")\n"
            ]
        },
        {
            "cell_type": "code",
            "execution_count": 35,
            "metadata": {},
            "outputs": [
                {
                    "data": {
                        "text/plain": [
                            "(9347,\n",
                            " 60478,\n",
                            "    Gene          Gene_Full_Name                                Disease  \\\n",
                            " 0  A1BG  alpha-1-B glycoprotein                          Schizophrenia   \n",
                            " 1  NAT2   N-acetyltransferase 2  Malignant neoplasm of urinary bladder   \n",
                            " 2  NAT2   N-acetyltransferase 2                       Bladder Neoplasm   \n",
                            " 3  NAT2   N-acetyltransferase 2           Malignant neoplasm of breast   \n",
                            " 4  NAT2   N-acetyltransferase 2              Coronary Arteriosclerosis   \n",
                            " \n",
                            "   Disease_id  Score_gda  \n",
                            " 0   C0036341       0.30  \n",
                            " 1   C0005684       0.40  \n",
                            " 2   C0005695       0.40  \n",
                            " 3   C0006142       0.40  \n",
                            " 4   C0010054       0.31  )"
                        ]
                    },
                    "execution_count": 35,
                    "metadata": {},
                    "output_type": "execute_result"
                }
            ],
            "source": [
                "Desease_list=[] \n",
                "Desease_id_list=[]\n",
                "for i in range(0,len(GDAs)):\n",
                "#for desease ,id_desease in GDAs_1[[\"Disease\",\"Disease_id\"]]:\n",
                "    if GDAs[\"Disease\"][i] not in Desease_list:#si no existe el nodo then\n",
                "        Desease_list.append(GDAs[\"Disease\"][i])\n",
                "        Desease_id_list.append([GDAs[\"Disease\"][i],GDAs[\"Disease_id\"][i]]) # agregalo\n",
                "\n",
                "len(Desease_id_list),len(GDAs),GDAs.head()"
            ]
        },
        {
            "cell_type": "code",
            "execution_count": 32,
            "metadata": {},
            "outputs": [
                {
                    "name": "stdout",
                    "output_type": "stream",
                    "text": [
                        "Se crearon 9347 nodos <Desease>\n"
                    ]
                }
            ],
            "source": [
                "for des in Desease_id_list: \n",
                "    #print(\"CREATE(:GENE{name:'\"+gen+\"'})\")\n",
                "    graph.run(\"Create(a:Desease{name:$name,CUI:$cui})\",name=des[0],cui=des[1])\n",
                "r=graph.run('MATCH (n:Desease) RETURN count((n));').evaluate()\n",
                "print('Se crearon',r,'nodos <Desease>')"
            ]
        },
        {
            "cell_type": "code",
            "execution_count": 33,
            "metadata": {},
            "outputs": [],
            "source": [
                "for i in range(0,len(GDAs)):\n",
                "    graph.run(\"MATCH(a:Desease{name:$name}) MATCH(b:Gene{SYB:$name1}) CREATE(a)-[:GDA{GDA_score:$name2}]->(b)\",name1=GDAs[\"Gene\"][i],name=GDAs[\"Disease\"][i],name2=GDAs[\"Score_gda\"][i])\n"
            ]
        },
        {
            "cell_type": "code",
            "execution_count": 38,
            "metadata": {},
            "outputs": [
                {
                    "name": "stdout",
                    "output_type": "stream",
                    "text": [
                        "Se crearon 57764  relaciones <GDA>\n"
                    ]
                }
            ],
            "source": [
                "r=graph.run('MATCH (:Desease)-[n:GDA]->(:Gene) RETURN count(n);').evaluate()\n",
                "print('Se crearon',r,' relaciones <GDA>')"
            ]
        },
        {
            "cell_type": "code",
            "execution_count": 50,
            "metadata": {},
            "outputs": [],
            "source": [
                "no_encontrado=[]\n",
                "for i in range(0,len(GDAs)):\n",
                "    a=graph.run(\" MATCH(b:Gene{SYB:$name1}) return b.SYB\",name1=GDAs[\"Gene\"][i]).evaluate()\n",
                "    if a!=GDAs[\"Gene\"][i]:\n",
                "        no_encontrado.append(GDAs[\"Gene\"][i])"
            ]
        },
        {
            "cell_type": "code",
            "execution_count": 89,
            "metadata": {},
            "outputs": [
                {
                    "data": {
                        "text/plain": [
                            "(573,\n",
                            " ['MIR204',\n",
                            "  'MIR8061',\n",
                            "  'MIR20B',\n",
                            "  'GHS',\n",
                            "  'FOXI1',\n",
                            "  'MIR325',\n",
                            "  'MIR5588',\n",
                            "  'MIR4492',\n",
                            "  'UGT1A',\n",
                            "  'LINC00475',\n",
                            "  'MIR548B',\n",
                            "  'MIR29A',\n",
                            "  'TTN-AS1',\n",
                            "  'OCA5',\n",
                            "  'RMST',\n",
                            "  'BCL10',\n",
                            "  'MIR22HG',\n",
                            "  'MC4R',\n",
                            "  'MIRLET7E',\n",
                            "  'UOX'])"
                        ]
                    },
                    "execution_count": 89,
                    "metadata": {},
                    "output_type": "execute_result"
                }
            ],
            "source": [
                "syb_en_dis_no_encontrados=list(set(no_encontrado))\n",
                "len(syb_en_dis_no_encontrados),syb_en_dis_no_encontrados[0:20]"
            ]
        }
    ],
    "metadata": {
        "interpreter": {
            "hash": "2c1d810cbdec53ec64946343f3c89d77305c51d6346f2ac7bc7d3a93293d3fd2"
        },
        "kernelspec": {
            "display_name": "Python 3.9.1 64-bit",
            "name": "python3"
        },
        "language_info": {
            "codemirror_mode": {
                "name": "ipython",
                "version": 3
            },
            "file_extension": ".py",
            "mimetype": "text/x-python",
            "name": "python",
            "nbconvert_exporter": "python",
            "pygments_lexer": "ipython3",
            "version": "3.9.1"
        },
        "orig_nbformat": 4
    },
    "nbformat": 4,
    "nbformat_minor": 2
}
